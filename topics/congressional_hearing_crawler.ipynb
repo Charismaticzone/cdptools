{
 "cells": [
  {
   "cell_type": "code",
   "execution_count": 1,
   "metadata": {},
   "outputs": [],
   "source": [
    "import pandas as pd\n",
    "import requests\n",
    "import re\n",
    "import datetime as dt\n",
    "from bs4 import BeautifulSoup"
   ]
  },
  {
   "cell_type": "code",
   "execution_count": 37,
   "metadata": {},
   "outputs": [],
   "source": [
    "base_url = 'http://www.govinfo.gov/app/collection/chrg/'\n",
    "hearing_archive_url = 'http://www.govinfo.gov/app/collection/chrg/'\n",
    "headers={'User-Agent': 'Mozilla/5.0 (Windows NT 10.0; Win64; x64) AppleWebKit/537.36 (KHTML, like Gecko) Chrome/74.0.3729.169 Safari/537.36'}"
   ]
  },
  {
   "cell_type": "code",
   "execution_count": 38,
   "metadata": {},
   "outputs": [],
   "source": [
    "def get_hearing_archive_list():\n",
    "    response = requests.get(url=base_url, headers=headers)\n",
    "    html = response.text\n",
    "    print(f'Got HTML response with length: {len(html)}')\n",
    "    soup = BeautifulSoup(html, 'html')\n",
    "    \n",
    "    link_list = []\n",
    "    for item in soup.find_all(attrs={'class': 'btn btn-sm btn-format'}):\n",
    "        for link in item.find_all('a'):\n",
    "            print(f'Link found: {link}')\n",
    "            if link.__contains__('/html/'):\n",
    "                link_list.append(link.get('href'))\n",
    "#     links = soup.findAll('a', {'class': 'btn btn-sm btn-format'})\n",
    "#     print(links)\n",
    "#     links = [link.get('href') for link in links if '/html/' in link]\n",
    "    return link_list\n",
    "\n",
    "# In [4]: for item in soup.find_all(attrs={'class': 'article-additional-info'}):\n",
    "#    ...:     for link in item.find_all('a'):\n",
    "#    ...:         print link.get('href')"
   ]
  },
  {
   "cell_type": "code",
   "execution_count": 41,
   "metadata": {},
   "outputs": [],
   "source": [
    "cong_85 = base_url + '/85/'\n",
    "other = 'https://www.govinfo.gov/app/collection/chrg/112/joint/Committee%20on%20Finance'\n",
    "response = requests.get(url=other, headers=headers)\n",
    "html = response.text\n",
    "soup = BeautifulSoup(html, 'html')"
   ]
  },
  {
   "cell_type": "code",
   "execution_count": 42,
   "metadata": {},
   "outputs": [
    {
     "data": {
      "text/plain": [
       "'<!DOCTYPE html>\\n<html lang=\"en\">\\n<head>\\n    <meta http-equiv=\"X-UA-Compatible\" content=\"IE=edge\">\\n    <meta charset=\"utf-8\">\\n    <title>govinfo</title>\\n    <meta name=\"viewport\"\\n          content=\"width=device-width, initial-scale=1.0, maximum-scale=1.0\">\\n    <meta name=\"description\" content=\"\">\\n    <meta name=\"author\" content=\"\">\\n\\n\\n    <!--<script src=\"https://ajax.googleapis.com/ajax/libs/jquery/1.11.0/jquery.min.js\"></script>-->\\n    <link href=\"https://fonts.googleapis.com/css?family=Lato:700|Roboto:400,700\" rel=\"stylesheet\" />\\n\\n\\n    <link href=\"https://maxcdn.bootstrapcdn.com/font-awesome/4.3.0/css/font-awesome.min.css\" rel=\"stylesheet\">\\n    <link href=\"https://maxcdn.bootstrapcdn.com/bootstrap/3.2.0/css/bootstrap.min.css\" rel=\"stylesheet\">\\n\\n    <!-- Fav and touch icons -->\\n    <link rel=\"apple-touch-icon-precomposed\" sizes=\"76x76\"\\n          href=\"../lib/bootstrap/ico/apple-touch-icon-76.png\">\\n    <link rel=\"apple-touch-icon-precomposed\" sizes=\"120x120\"\\n          href=\"../lib/bootstrap/ico/apple-touch-icon-120.png\">\\n    <link rel=\"apple-touch-icon-precomposed\" sizes=\"152x152\"\\n          href=\"../lib/bootstrap/ico/apple-touch-icon-152.png\">\\n    <link rel=\"apple-touch-icon-precomposed\" sizes=\"167x167\"\\n          href=\"../lib/bootstrap/ico/apple-touch-icon-167.png\">\\n    <link rel=\"apple-touch-icon-precomposed\" sizes=\"180x180\"\\n          href=\"../lib/bootstrap/ico/apple-touch-icon-180.png\">\\n    <link rel=\"shortcut icon\" href=\"/favicon.ico\">\\n\\n\\n    <!-- bundle automatically appended by Webpack -->\\n<script src=\"/app/infrastructure.js\"></script>\\n<script type=\"text/javascript\" src=\"/app/search.bundle.6.2.0.js\"></script></head>\\n\\n<body>\\n  <header></header>\\n  <div id=\\'mainViewContent\\'></div>\\n  <div id=\\'mainViewFooter\\'></div>\\n\\n</body>\\n\\n</html>\\n'"
      ]
     },
     "execution_count": 42,
     "metadata": {},
     "output_type": "execute_result"
    }
   ],
   "source": [
    "html"
   ]
  },
  {
   "cell_type": "code",
   "execution_count": 23,
   "metadata": {},
   "outputs": [
    {
     "name": "stdout",
     "output_type": "stream",
     "text": [
      "Got HTML response with length: 1762\n"
     ]
    }
   ],
   "source": [
    "archive_links = get_hearing_archive_list()"
   ]
  },
  {
   "cell_type": "code",
   "execution_count": 24,
   "metadata": {},
   "outputs": [
    {
     "data": {
      "text/plain": [
       "[]"
      ]
     },
     "execution_count": 24,
     "metadata": {},
     "output_type": "execute_result"
    }
   ],
   "source": [
    "archive_links[0:5]"
   ]
  },
  {
   "cell_type": "code",
   "execution_count": 43,
   "metadata": {},
   "outputs": [],
   "source": [
    "api_key = '63XrgQpYHxSvTgfjnM4raBmVmZvCm2TJc1mRl4zd'\n",
    "test = 'https://api.govinfo.gov/collections?api_key=' + api_key"
   ]
  },
  {
   "cell_type": "code",
   "execution_count": 44,
   "metadata": {},
   "outputs": [
    {
     "data": {
      "text/plain": [
       "'https://api.govinfo.gov/collections?api_key=63XrgQpYHxSvTgfjnM4raBmVmZvCm2TJc1mRl4zd'"
      ]
     },
     "execution_count": 44,
     "metadata": {},
     "output_type": "execute_result"
    }
   ],
   "source": [
    "test"
   ]
  },
  {
   "cell_type": "code",
   "execution_count": 66,
   "metadata": {},
   "outputs": [],
   "source": [
    "response = requests.get('https://api.govinfo.gov/collections/CHRG/2019-01-28T20:18:10Z?offset=0&pageSize=10&api_key=63XrgQpYHxSvTgfjnM4raBmVmZvCm2TJc1mRl4zd')"
   ]
  },
  {
   "cell_type": "code",
   "execution_count": 67,
   "metadata": {},
   "outputs": [
    {
     "data": {
      "text/plain": [
       "<Response [200]>"
      ]
     },
     "execution_count": 67,
     "metadata": {},
     "output_type": "execute_result"
    }
   ],
   "source": [
    "response"
   ]
  },
  {
   "cell_type": "code",
   "execution_count": 68,
   "metadata": {},
   "outputs": [
    {
     "data": {
      "text/plain": [
       "'{\"count\":29501,\"message\":null,\"nextPage\":\"https://api.govinfo.gov/collections/CHRG/2019-01-28T20:18:10Z?offset=10&pageSize=10\",\"previousPage\":null,\"packages\":[{\"packageId\":\"CHRG-112hhrg74438\",\"lastModified\":\"2019-08-15T22:21:15Z\",\"packageLink\":\"https://api.govinfo.gov/packages/CHRG-112hhrg74438/summary\",\"docClass\":\"HHRG\",\"title\":\"Department of Homeland Security Appropriations for 2013\",\"congress\":\"112\"},{\"packageId\":\"CHRG-112hhrg74397\",\"lastModified\":\"2019-08-15T22:19:17Z\",\"packageLink\":\"https://api.govinfo.gov/packages/CHRG-112hhrg74397/summary\",\"docClass\":\"HHRG\",\"title\":\"Department of Homeland Security Appropriations for 2013\",\"congress\":\"112\"},{\"packageId\":\"CHRG-112hhrg78094\",\"lastModified\":\"2019-08-15T22:15:06Z\",\"packageLink\":\"https://api.govinfo.gov/packages/CHRG-112hhrg78094/summary\",\"docClass\":\"HHRG\",\"title\":\"Energy and Water Development Appropriations for 2013\",\"congress\":\"112\"},{\"packageId\":\"CHRG-112hhrg79351\",\"lastModified\":\"2019-08-15T22:14:25Z\",\"packageLink\":\"https://api.govinfo.gov/packages/CHRG-112hhrg79351/summary\",\"docClass\":\"HHRG\",\"title\":\"Energy and Water Development Appropriations for 2013\",\"congress\":\"112\"},{\"packageId\":\"CHRG-112hhrg80406\",\"lastModified\":\"2019-08-15T22:13:42Z\",\"packageLink\":\"https://api.govinfo.gov/packages/CHRG-112hhrg80406/summary\",\"docClass\":\"HHRG\",\"title\":\"Energy and Water Development Appropriations for 2013\",\"congress\":\"112\"},{\"packageId\":\"CHRG-112hhrg78588\",\"lastModified\":\"2019-08-15T22:12:50Z\",\"packageLink\":\"https://api.govinfo.gov/packages/CHRG-112hhrg78588/summary\",\"docClass\":\"HHRG\",\"title\":\"Energy and Water Development Appropriations for 2013\",\"congress\":\"112\"},{\"packageId\":\"CHRG-112hhrg74466\",\"lastModified\":\"2019-08-15T22:08:34Z\",\"packageLink\":\"https://api.govinfo.gov/packages/CHRG-112hhrg74466/summary\",\"docClass\":\"HHRG\",\"title\":\"Financial Services and General Government Appropriations for 2013\",\"congress\":\"112\"},{\"packageId\":\"CHRG-112hhrg74465\",\"lastModified\":\"2019-08-15T22:07:49Z\",\"packageLink\":\"https://api.govinfo.gov/packages/CHRG-112hhrg74465/summary\",\"docClass\":\"HHRG\",\"title\":\"Financial Services and General Government Appropriations for 2013\",\"congress\":\"112\"},{\"packageId\":\"CHRG-112hhrg74464\",\"lastModified\":\"2019-08-15T22:07:08Z\",\"packageLink\":\"https://api.govinfo.gov/packages/CHRG-112hhrg74464/summary\",\"docClass\":\"HHRG\",\"title\":\"Financial Services and General Government Appropriations for 2013\",\"congress\":\"112\"},{\"packageId\":\"CHRG-112hhrg73545\",\"lastModified\":\"2019-08-15T22:04:18Z\",\"packageLink\":\"https://api.govinfo.gov/packages/CHRG-112hhrg73545/summary\",\"docClass\":\"HHRG\",\"title\":\"Legislative Branch Appropriations for 2013\",\"congress\":\"112\"}]}'"
      ]
     },
     "execution_count": 68,
     "metadata": {},
     "output_type": "execute_result"
    }
   ],
   "source": [
    "response.text"
   ]
  },
  {
   "cell_type": "code",
   "execution_count": null,
   "metadata": {},
   "outputs": [],
   "source": []
  }
 ],
 "metadata": {
  "kernelspec": {
   "display_name": "Python 3",
   "language": "python",
   "name": "python3"
  },
  "language_info": {
   "codemirror_mode": {
    "name": "ipython",
    "version": 3
   },
   "file_extension": ".py",
   "mimetype": "text/x-python",
   "name": "python",
   "nbconvert_exporter": "python",
   "pygments_lexer": "ipython3",
   "version": "3.7.3"
  }
 },
 "nbformat": 4,
 "nbformat_minor": 2
}
